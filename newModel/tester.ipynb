{
 "cells": [
  {
   "cell_type": "code",
   "execution_count": 26,
   "metadata": {},
   "outputs": [],
   "source": [
    "import numpy as np \n",
    "import pandas as pd\n",
    "\n",
    "import os\n",
    "dir_black = os.path.join('../Black Soil')\n",
    "dir_Cinder = os.path.join('../Cinder Soil')\n",
    "dir_Laterite = os.path.join('../Laterite Soil')\n",
    "dir_peat = os.path.join('../Peat Soil')\n",
    "dir_yellow = os.path.join('../Yellow Soil')"
   ]
  },
  {
   "cell_type": "code",
   "execution_count": 27,
   "metadata": {},
   "outputs": [],
   "source": [
    "import tensorflow as tf\n",
    "from tensorflow import keras"
   ]
  },
  {
   "cell_type": "code",
   "execution_count": 28,
   "metadata": {},
   "outputs": [],
   "source": [
    "image_size = 220\n",
    "batch_size = 10\n",
    "\n",
    "\n",
    "target_size = (image_size, image_size)\n",
    "input_shape = (image_size, image_size, 3)"
   ]
  },
  {
   "cell_type": "code",
   "execution_count": 29,
   "metadata": {},
   "outputs": [
    {
     "name": "stdout",
     "output_type": "stream",
     "text": [
      "Found 156 images belonging to 5 classes.\n"
     ]
    }
   ],
   "source": [
    "from keras.preprocessing.image import ImageDataGenerator\n",
    "\n",
    "train_datagen = ImageDataGenerator(rescale=1/255)\n",
    "\n",
    "\n",
    "train_generator = train_datagen.flow_from_directory(\n",
    "        '', \n",
    "        target_size=(200, 200),\n",
    "        batch_size = batch_size,\n",
    "        classes = [ 'Black Soil','Cinder Soil', 'Laterite Soil','Peat Soil','Yellow Soil'],\n",
    "       class_mode='categorical')"
   ]
  },
  {
   "cell_type": "code",
   "execution_count": 30,
   "metadata": {},
   "outputs": [],
   "source": [
    "import PIL\n",
    "for image_batch, label_batch in train_generator:\n",
    "  break\n",
    "  image_batch.shape, label_batch.shape"
   ]
  },
  {
   "cell_type": "code",
   "execution_count": 31,
   "metadata": {},
   "outputs": [
    {
     "name": "stdout",
     "output_type": "stream",
     "text": [
      "{'Black Soil': 0, 'Cinder Soil': 1, 'Laterite Soil': 2, 'Peat Soil': 3, 'Yellow Soil': 4}\n"
     ]
    }
   ],
   "source": [
    "print (train_generator.class_indices)"
   ]
  },
  {
   "cell_type": "code",
   "execution_count": 32,
   "metadata": {},
   "outputs": [],
   "source": [
    "model = tf.keras.models.Sequential([\n",
    "    \n",
    "    # The first convolution\n",
    "    tf.keras.layers.Conv2D(16, (3,3), activation='relu', input_shape=(220, 220, 3)),\n",
    "    tf.keras.layers.MaxPooling2D(2, 2),\n",
    "    # The second convolution\n",
    "    tf.keras.layers.Conv2D(32, (3,3), activation='relu'),\n",
    "    tf.keras.layers.MaxPooling2D(2,2),\n",
    "    # The third convolution\n",
    "    tf.keras.layers.Conv2D(64, (3,3), activation='relu'),\n",
    "    tf.keras.layers.MaxPooling2D(2,2),\n",
    "    # The fourth convolution\n",
    "    tf.keras.layers.Conv2D(64, (3,3), activation='relu'),\n",
    "    tf.keras.layers.MaxPooling2D(2,2),\n",
    "    # The fifth convolution\n",
    "    tf.keras.layers.Conv2D(64, (3,3), activation='relu'),\n",
    "    tf.keras.layers.MaxPooling2D(2,2),\n",
    "    \n",
    "    # Flatten the results to feed into a dense layer\n",
    "    tf.keras.layers.Flatten(),\n",
    "    # 128 neuron in the fully-connected layer\n",
    "    tf.keras.layers.Dense(128, activation='relu'),\n",
    "    # 5 output neurons for 5 classes with the softmax activation\n",
    "    tf.keras.layers.Dense(5, activation='softmax')\n",
    "])"
   ]
  },
  {
   "cell_type": "code",
   "execution_count": 33,
   "metadata": {},
   "outputs": [
    {
     "name": "stdout",
     "output_type": "stream",
     "text": [
      "Model: \"sequential_2\"\n",
      "_________________________________________________________________\n",
      " Layer (type)                Output Shape              Param #   \n",
      "=================================================================\n",
      " conv2d_10 (Conv2D)          (None, 218, 218, 16)      448       \n",
      "                                                                 \n",
      " max_pooling2d_10 (MaxPoolin  (None, 109, 109, 16)     0         \n",
      " g2D)                                                            \n",
      "                                                                 \n",
      " conv2d_11 (Conv2D)          (None, 107, 107, 32)      4640      \n",
      "                                                                 \n",
      " max_pooling2d_11 (MaxPoolin  (None, 53, 53, 32)       0         \n",
      " g2D)                                                            \n",
      "                                                                 \n",
      " conv2d_12 (Conv2D)          (None, 51, 51, 64)        18496     \n",
      "                                                                 \n",
      " max_pooling2d_12 (MaxPoolin  (None, 25, 25, 64)       0         \n",
      " g2D)                                                            \n",
      "                                                                 \n",
      " conv2d_13 (Conv2D)          (None, 23, 23, 64)        36928     \n",
      "                                                                 \n",
      " max_pooling2d_13 (MaxPoolin  (None, 11, 11, 64)       0         \n",
      " g2D)                                                            \n",
      "                                                                 \n",
      " conv2d_14 (Conv2D)          (None, 9, 9, 64)          36928     \n",
      "                                                                 \n",
      " max_pooling2d_14 (MaxPoolin  (None, 4, 4, 64)         0         \n",
      " g2D)                                                            \n",
      "                                                                 \n",
      " flatten_2 (Flatten)         (None, 1024)              0         \n",
      "                                                                 \n",
      " dense_4 (Dense)             (None, 128)               131200    \n",
      "                                                                 \n",
      " dense_5 (Dense)             (None, 5)                 645       \n",
      "                                                                 \n",
      "=================================================================\n",
      "Total params: 229,285\n",
      "Trainable params: 229,285\n",
      "Non-trainable params: 0\n",
      "_________________________________________________________________\n"
     ]
    }
   ],
   "source": [
    "model.summary()"
   ]
  },
  {
   "cell_type": "code",
   "execution_count": 34,
   "metadata": {},
   "outputs": [],
   "source": [
    "from keras.optimizers import RMSprop\n",
    "\n",
    "model.compile(loss='categorical_crossentropy',\n",
    "              optimizer=RMSprop(learning_rate=0.001),\n",
    "              metrics=['acc'])"
   ]
  },
  {
   "cell_type": "code",
   "execution_count": 35,
   "metadata": {},
   "outputs": [],
   "source": [
    "total_sample = train_generator.n\n",
    "n_epochs = 30"
   ]
  },
  {
   "cell_type": "code",
   "execution_count": 36,
   "metadata": {},
   "outputs": [
    {
     "name": "stdout",
     "output_type": "stream",
     "text": [
      "Epoch 1/30\n",
      "15/15 [==============================] - 10s 512ms/step - loss: 1.6192 - acc: 0.2671\n",
      "Epoch 2/30\n",
      "15/15 [==============================] - 8s 543ms/step - loss: 1.4900 - acc: 0.3533\n",
      "Epoch 3/30\n",
      "15/15 [==============================] - 9s 565ms/step - loss: 1.3193 - acc: 0.3562\n",
      "Epoch 4/30\n",
      "15/15 [==============================] - 10s 652ms/step - loss: 1.1106 - acc: 0.3904\n",
      "Epoch 5/30\n",
      "15/15 [==============================] - 9s 580ms/step - loss: 1.1138 - acc: 0.4521\n",
      "Epoch 6/30\n",
      "15/15 [==============================] - 8s 555ms/step - loss: 1.0856 - acc: 0.4795\n",
      "Epoch 7/30\n",
      "15/15 [==============================] - 8s 561ms/step - loss: 0.9830 - acc: 0.5137\n",
      "Epoch 8/30\n",
      "15/15 [==============================] - 9s 549ms/step - loss: 0.9724 - acc: 0.4658\n",
      "Epoch 9/30\n",
      "15/15 [==============================] - 9s 558ms/step - loss: 0.8938 - acc: 0.5959\n",
      "Epoch 10/30\n",
      "15/15 [==============================] - 9s 613ms/step - loss: 0.9006 - acc: 0.5822\n",
      "Epoch 11/30\n",
      "15/15 [==============================] - 11s 691ms/step - loss: 0.8037 - acc: 0.6233\n",
      "Epoch 12/30\n",
      "15/15 [==============================] - 8s 493ms/step - loss: 0.8871 - acc: 0.6000\n",
      "Epoch 13/30\n",
      "15/15 [==============================] - 8s 530ms/step - loss: 0.6459 - acc: 0.6986\n",
      "Epoch 14/30\n",
      "15/15 [==============================] - 7s 480ms/step - loss: 0.7012 - acc: 0.6644\n",
      "Epoch 15/30\n",
      "15/15 [==============================] - 7s 479ms/step - loss: 0.6826 - acc: 0.6712\n",
      "Epoch 16/30\n",
      "15/15 [==============================] - 8s 529ms/step - loss: 0.7628 - acc: 0.6644\n",
      "Epoch 17/30\n",
      "15/15 [==============================] - 7s 471ms/step - loss: 0.6694 - acc: 0.6575\n",
      "Epoch 18/30\n",
      "15/15 [==============================] - 8s 494ms/step - loss: 0.5948 - acc: 0.6986\n",
      "Epoch 19/30\n",
      "15/15 [==============================] - 8s 489ms/step - loss: 0.6557 - acc: 0.6918\n",
      "Epoch 20/30\n",
      "15/15 [==============================] - 8s 553ms/step - loss: 0.6103 - acc: 0.7260\n",
      "Epoch 21/30\n",
      "15/15 [==============================] - 7s 473ms/step - loss: 0.5596 - acc: 0.7123\n",
      "Epoch 22/30\n",
      "15/15 [==============================] - 7s 478ms/step - loss: 0.5950 - acc: 0.7260\n",
      "Epoch 23/30\n",
      "15/15 [==============================] - 7s 475ms/step - loss: 0.6204 - acc: 0.7466\n",
      "Epoch 24/30\n",
      "15/15 [==============================] - 8s 537ms/step - loss: 0.4250 - acc: 0.7603\n",
      "Epoch 25/30\n",
      "15/15 [==============================] - 8s 504ms/step - loss: 0.5474 - acc: 0.7603\n",
      "Epoch 26/30\n",
      "15/15 [==============================] - 8s 497ms/step - loss: 0.5521 - acc: 0.7329\n",
      "Epoch 27/30\n",
      "15/15 [==============================] - 8s 543ms/step - loss: 0.4481 - acc: 0.7808\n",
      "Epoch 28/30\n",
      "15/15 [==============================] - 9s 573ms/step - loss: 0.5364 - acc: 0.8082\n",
      "Epoch 29/30\n",
      "15/15 [==============================] - 8s 521ms/step - loss: 0.3639 - acc: 0.8151\n",
      "Epoch 30/30\n",
      "15/15 [==============================] - 8s 536ms/step - loss: 0.4875 - acc: 0.8082\n"
     ]
    }
   ],
   "source": [
    "history = model.fit(\n",
    "        train_generator, \n",
    "        steps_per_epoch = int(total_sample/batch_size),  \n",
    "        epochs = n_epochs,\n",
    "        verbose = 1)"
   ]
  },
  {
   "cell_type": "code",
   "execution_count": 37,
   "metadata": {},
   "outputs": [],
   "source": [
    "import matplotlib.pyplot as plt\n"
   ]
  },
  {
   "cell_type": "code",
   "execution_count": 38,
   "metadata": {},
   "outputs": [
    {
     "data": {
      "image/png": "[encoded data removed]",
      "text/plain": [
       "<Figure size 700x400 with 1 Axes>"
      ]
     },
     "metadata": {},
     "output_type": "display_data"
    }
   ],
   "source": [
    "plt.figure(figsize=(7,4))\n",
    "plt.plot([i+1 for i in range(n_epochs)],history.history['acc'],'-o',c='k',lw=2,markersize=9)\n",
    "plt.grid(True)\n",
    "plt.title(\"Training accuracy with epochs\\n\",fontsize=18)\n",
    "plt.xlabel(\"Training epochs\",fontsize=15)\n",
    "plt.ylabel(\"Training accuracy\",fontsize=15)\n",
    "plt.xticks(fontsize=15)\n",
    "plt.yticks(fontsize=15)\n",
    "plt.show()"
   ]
  },
  {
   "cell_type": "code",
   "execution_count": 39,
   "metadata": {},
   "outputs": [],
   "source": [
    "model.save('my_model2.h5')"
   ]
  },
  {
   "cell_type": "code",
   "execution_count": null,
   "metadata": {},
   "outputs": [],
   "source": []
  }
 ],
 "metadata": {
  "kernelspec": {
   "display_name": "tester",
   "language": "python",
   "name": "python3"
  },
  "language_info": {
   "codemirror_mode": {
    "name": "ipython",
    "version": 3
   },
   "file_extension": ".py",
   "mimetype": "text/x-python",
   "name": "python",
   "nbconvert_exporter": "python",
   "pygments_lexer": "ipython3",
   "version": "3.9.16"
  },
  "orig_nbformat": 4,
  "vscode": {
   "interpreter": {
    "hash": "f9737984de04b34c1de78b54906d7ae9d1f7b481fcf1e7a346884a81d7285b79"
   }
  }
 },
 "nbformat": 4,
 "nbformat_minor": 2
}
