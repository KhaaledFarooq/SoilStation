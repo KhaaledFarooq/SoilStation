{
 "cells": [
  {
   "cell_type": "code",
   "execution_count": 2,
   "metadata": {},
   "outputs": [],
   "source": [
    "import numpy as np \n",
    "import pandas as pd\n",
    "\n",
    "import os\n",
    "dir_black = os.path.join('../Black Soil')\n",
    "dir_Cinder = os.path.join('../Cinder Soil')\n",
    "dir_Laterite = os.path.join('../Laterite Soil')\n",
    "dir_peat = os.path.join('../Peat Soil')\n",
    "dir_yellow = os.path.join('../Yellow Soil')"
   ]
  },
  {
   "cell_type": "code",
   "execution_count": 4,
   "metadata": {},
   "outputs": [],
   "source": [
    "import tensorflow as tf\n",
    "from tensorflow import keras"
   ]
  },
  {
   "cell_type": "code",
   "execution_count": 5,
   "metadata": {},
   "outputs": [],
   "source": [
    "image_size = 220\n",
    "batch_size = 10\n",
    "\n",
    "\n",
    "target_size = (image_size, image_size)\n",
    "input_shape = (image_size, image_size, 3)"
   ]
  },
  {
   "cell_type": "code",
   "execution_count": 7,
   "metadata": {},
   "outputs": [
    {
     "name": "stdout",
     "output_type": "stream",
     "text": [
      "Found 500 images belonging to 5 classes.\n"
     ]
    }
   ],
   "source": [
    "from keras.preprocessing.image import ImageDataGenerator\n",
    "\n",
    "train_datagen = ImageDataGenerator(rescale=1/255)\n",
    "\n",
    "\n",
    "train_generator = train_datagen.flow_from_directory(\n",
    "        '', \n",
    "        target_size=(200, 200),\n",
    "        batch_size = batch_size,\n",
    "        classes = [ 'Black Soil','Cinder Soil', 'Laterite Soil','Peat Soil','Yellow Soil'],\n",
    "       class_mode='categorical')"
   ]
  },
  {
   "cell_type": "code",
   "execution_count": 8,
   "metadata": {},
   "outputs": [],
   "source": [
    "import PIL\n",
    "for image_batch, label_batch in train_generator:\n",
    "  break\n",
    "  image_batch.shape, label_batch.shape"
   ]
  },
  {
   "cell_type": "code",
   "execution_count": 9,
   "metadata": {},
   "outputs": [
    {
     "name": "stdout",
     "output_type": "stream",
     "text": [
      "{'Black Soil': 0, 'Cinder Soil': 1, 'Laterite Soil': 2, 'Peat Soil': 3, 'Yellow Soil': 4}\n"
     ]
    }
   ],
   "source": [
    "print (train_generator.class_indices)"
   ]
  },
  {
   "cell_type": "code",
   "execution_count": 10,
   "metadata": {},
   "outputs": [],
   "source": [
    "model = tf.keras.models.Sequential([\n",
    "    \n",
    "    # The first convolution\n",
    "    tf.keras.layers.Conv2D(16, (3,3), activation='relu', input_shape=(220, 220, 3)),\n",
    "    tf.keras.layers.MaxPooling2D(2, 2),\n",
    "    # The second convolution\n",
    "    tf.keras.layers.Conv2D(32, (3,3), activation='relu'),\n",
    "    tf.keras.layers.MaxPooling2D(2,2),\n",
    "    # The third convolution\n",
    "    tf.keras.layers.Conv2D(64, (3,3), activation='relu'),\n",
    "    tf.keras.layers.MaxPooling2D(2,2),\n",
    "    # The fourth convolution\n",
    "    tf.keras.layers.Conv2D(64, (3,3), activation='relu'),\n",
    "    tf.keras.layers.MaxPooling2D(2,2),\n",
    "    # The fifth convolution\n",
    "    tf.keras.layers.Conv2D(64, (3,3), activation='relu'),\n",
    "    tf.keras.layers.MaxPooling2D(2,2),\n",
    "    \n",
    "    # Flatten the results to feed into a dense layer\n",
    "    tf.keras.layers.Flatten(),\n",
    "    # 128 neuron in the fully-connected layer\n",
    "    tf.keras.layers.Dense(128, activation='relu'),\n",
    "    # 5 output neurons for 5 classes with the softmax activation\n",
    "    tf.keras.layers.Dense(5, activation='softmax')\n",
    "])"
   ]
  },
  {
   "cell_type": "code",
   "execution_count": 11,
   "metadata": {},
   "outputs": [
    {
     "name": "stdout",
     "output_type": "stream",
     "text": [
      "Model: \"sequential\"\n",
      "_________________________________________________________________\n",
      " Layer (type)                Output Shape              Param #   \n",
      "=================================================================\n",
      " conv2d (Conv2D)             (None, 218, 218, 16)      448       \n",
      "                                                                 \n",
      " max_pooling2d (MaxPooling2D  (None, 109, 109, 16)     0         \n",
      " )                                                               \n",
      "                                                                 \n",
      " conv2d_1 (Conv2D)           (None, 107, 107, 32)      4640      \n",
      "                                                                 \n",
      " max_pooling2d_1 (MaxPooling  (None, 53, 53, 32)       0         \n",
      " 2D)                                                             \n",
      "                                                                 \n",
      " conv2d_2 (Conv2D)           (None, 51, 51, 64)        18496     \n",
      "                                                                 \n",
      " max_pooling2d_2 (MaxPooling  (None, 25, 25, 64)       0         \n",
      " 2D)                                                             \n",
      "                                                                 \n",
      " conv2d_3 (Conv2D)           (None, 23, 23, 64)        36928     \n",
      "                                                                 \n",
      " max_pooling2d_3 (MaxPooling  (None, 11, 11, 64)       0         \n",
      " 2D)                                                             \n",
      "                                                                 \n",
      " conv2d_4 (Conv2D)           (None, 9, 9, 64)          36928     \n",
      "                                                                 \n",
      " max_pooling2d_4 (MaxPooling  (None, 4, 4, 64)         0         \n",
      " 2D)                                                             \n",
      "                                                                 \n",
      " flatten (Flatten)           (None, 1024)              0         \n",
      "                                                                 \n",
      " dense (Dense)               (None, 128)               131200    \n",
      "                                                                 \n",
      " dense_1 (Dense)             (None, 5)                 645       \n",
      "                                                                 \n",
      "=================================================================\n",
      "Total params: 229,285\n",
      "Trainable params: 229,285\n",
      "Non-trainable params: 0\n",
      "_________________________________________________________________\n"
     ]
    }
   ],
   "source": [
    "model.summary()"
   ]
  },
  {
   "cell_type": "code",
   "execution_count": 12,
   "metadata": {},
   "outputs": [],
   "source": [
    "from keras.optimizers import RMSprop\n",
    "\n",
    "model.compile(loss='categorical_crossentropy',\n",
    "              optimizer=RMSprop(learning_rate=0.001),\n",
    "              metrics=['acc'])"
   ]
  },
  {
   "cell_type": "code",
   "execution_count": 13,
   "metadata": {},
   "outputs": [],
   "source": [
    "total_sample = train_generator.n\n",
    "n_epochs = 30"
   ]
  },
  {
   "cell_type": "code",
   "execution_count": 14,
   "metadata": {},
   "outputs": [
    {
     "name": "stdout",
     "output_type": "stream",
     "text": [
      "Epoch 1/30\n",
      "50/50 [==============================] - 38s 688ms/step - loss: 1.4347 - acc: 0.3220\n",
      "Epoch 2/30\n",
      "50/50 [==============================] - 26s 520ms/step - loss: 1.0740 - acc: 0.4760\n",
      "Epoch 3/30\n",
      "50/50 [==============================] - 26s 520ms/step - loss: 1.0106 - acc: 0.5640\n",
      "Epoch 4/30\n",
      "50/50 [==============================] - 26s 526ms/step - loss: 0.7995 - acc: 0.6680\n",
      "Epoch 5/30\n",
      "50/50 [==============================] - 26s 515ms/step - loss: 0.6951 - acc: 0.7680\n",
      "Epoch 6/30\n",
      "50/50 [==============================] - 26s 516ms/step - loss: 0.6425 - acc: 0.7720\n",
      "Epoch 7/30\n",
      "50/50 [==============================] - 26s 525ms/step - loss: 0.5702 - acc: 0.7980\n",
      "Epoch 8/30\n",
      "50/50 [==============================] - 26s 511ms/step - loss: 0.5191 - acc: 0.8180\n",
      "Epoch 9/30\n",
      "50/50 [==============================] - 35s 706ms/step - loss: 0.5232 - acc: 0.8440\n",
      "Epoch 10/30\n",
      "50/50 [==============================] - 28s 548ms/step - loss: 0.4443 - acc: 0.8440\n",
      "Epoch 11/30\n",
      "50/50 [==============================] - 28s 556ms/step - loss: 0.4518 - acc: 0.8580\n",
      "Epoch 12/30\n",
      "50/50 [==============================] - 26s 516ms/step - loss: 0.4626 - acc: 0.8520\n",
      "Epoch 13/30\n",
      "50/50 [==============================] - 25s 505ms/step - loss: 0.3736 - acc: 0.8660\n",
      "Epoch 14/30\n",
      "50/50 [==============================] - 26s 514ms/step - loss: 0.3640 - acc: 0.8800\n",
      "Epoch 15/30\n",
      "50/50 [==============================] - 25s 505ms/step - loss: 0.3577 - acc: 0.8820\n",
      "Epoch 16/30\n",
      "50/50 [==============================] - 25s 506ms/step - loss: 0.3111 - acc: 0.9060\n",
      "Epoch 17/30\n",
      "50/50 [==============================] - 25s 503ms/step - loss: 0.3377 - acc: 0.8920\n",
      "Epoch 18/30\n",
      "50/50 [==============================] - 26s 505ms/step - loss: 0.2844 - acc: 0.9140\n",
      "Epoch 19/30\n",
      "50/50 [==============================] - 25s 504ms/step - loss: 0.2821 - acc: 0.9060\n",
      "Epoch 20/30\n",
      "50/50 [==============================] - 26s 516ms/step - loss: 0.2366 - acc: 0.9160\n",
      "Epoch 21/30\n",
      "50/50 [==============================] - 26s 520ms/step - loss: 0.2937 - acc: 0.9120\n",
      "Epoch 22/30\n",
      "50/50 [==============================] - 26s 513ms/step - loss: 0.2588 - acc: 0.9360\n",
      "Epoch 23/30\n",
      "50/50 [==============================] - 26s 509ms/step - loss: 0.2044 - acc: 0.9340\n",
      "Epoch 24/30\n",
      "50/50 [==============================] - 27s 528ms/step - loss: 0.2212 - acc: 0.9320\n",
      "Epoch 25/30\n",
      "50/50 [==============================] - 29s 565ms/step - loss: 0.2313 - acc: 0.9320\n",
      "Epoch 26/30\n",
      "50/50 [==============================] - 27s 532ms/step - loss: 0.1852 - acc: 0.9500\n",
      "Epoch 27/30\n",
      "50/50 [==============================] - 25s 505ms/step - loss: 0.2865 - acc: 0.9240\n",
      "Epoch 28/30\n",
      "50/50 [==============================] - 25s 502ms/step - loss: 0.1615 - acc: 0.9440\n",
      "Epoch 29/30\n",
      "50/50 [==============================] - 25s 504ms/step - loss: 0.2532 - acc: 0.9440\n",
      "Epoch 30/30\n",
      "50/50 [==============================] - 25s 506ms/step - loss: 0.1398 - acc: 0.9560\n"
     ]
    }
   ],
   "source": [
    "history = model.fit(\n",
    "        train_generator, \n",
    "        steps_per_epoch = int(total_sample/batch_size),  \n",
    "        epochs = n_epochs,\n",
    "        verbose = 1)"
   ]
  },
  {
   "cell_type": "code",
   "execution_count": 15,
   "metadata": {},
   "outputs": [],
   "source": [
    "import matplotlib.pyplot as plt\n"
   ]
  },
  {
   "cell_type": "code",
   "execution_count": 16,
   "metadata": {},
   "outputs": [
    {
     "data": {
      "image/png": "[encoded data removed]",
      "text/plain": [
       "<Figure size 700x400 with 1 Axes>"
      ]
     },
     "metadata": {},
     "output_type": "display_data"
    }
   ],
   "source": [
    "plt.figure(figsize=(7,4))\n",
    "plt.plot([i+1 for i in range(n_epochs)],history.history['acc'],'-o',c='k',lw=2,markersize=9)\n",
    "plt.grid(True)\n",
    "plt.title(\"Training accuracy with epochs\\n\",fontsize=18)\n",
    "plt.xlabel(\"Training epochs\",fontsize=15)\n",
    "plt.ylabel(\"Training accuracy\",fontsize=15)\n",
    "plt.xticks(fontsize=15)\n",
    "plt.yticks(fontsize=15)\n",
    "plt.show()"
   ]
  },
  {
   "cell_type": "code",
   "execution_count": 17,
   "metadata": {},
   "outputs": [],
   "source": [
    "model.save('SoilPredictor.h5')"
   ]
  },
  {
   "cell_type": "code",
   "execution_count": null,
   "metadata": {},
   "outputs": [],
   "source": [
    "model.evaluate()"
   ]
  }
 ],
 "metadata": {
  "kernelspec": {
   "display_name": "tester",
   "language": "python",
   "name": "python3"
  },
  "language_info": {
   "codemirror_mode": {
    "name": "ipython",
    "version": 3
   },
   "file_extension": ".py",
   "mimetype": "text/x-python",
   "name": "python",
   "nbconvert_exporter": "python",
   "pygments_lexer": "ipython3",
   "version": "3.9.16"
  },
  "orig_nbformat": 4,
  "vscode": {
   "interpreter": {
    "hash": "f9737984de04b34c1de78b54906d7ae9d1f7b481fcf1e7a346884a81d7285b79"
   }
  }
 },
 "nbformat": 4,
 "nbformat_minor": 2
}
